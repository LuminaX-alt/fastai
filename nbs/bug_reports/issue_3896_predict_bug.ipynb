# 🐛 FastAI Issue #3896 - learn.predict(PILImage.create(...)) Error

## 🔗 Related Issue:
[GitHub Issue #3896](https://github.com/fastai/fastai/issues/3896)

## ⚠️ Bug Description:
When calling `learn.predict(PILImage.create(...))` on FastAI v2.7.11, it raises:

## ✅ Reproduction Code:
```python
from fastai.vision.all import *
path = untar_data(URLs.PETS)/"images"
files = get_image_files(path)
learn = load_learner('export.pkl')  # use an actual exported learner model
img = PILImage.create(files[0])     # any image file from dataset
learn.predict(img)                  # This triggers the bug
AttributeError: 'str' object has no attribute 'getdata'
